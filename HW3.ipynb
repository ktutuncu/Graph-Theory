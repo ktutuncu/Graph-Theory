{
 "cells": [
  {
   "cell_type": "markdown",
   "metadata": {},
   "source": [
    "<h1> Query </h1>\n",
    "<br>\n",
    "SELECT Actor1Name, Actor2Name <br>\n",
    "FROM [gdelt-bq:full.events]<br>\n",
    "WHERE <br> Actor1KnownGroupCode != ''<br> AND Actor2KnownGroupCode != ''<br> AND Actor1CountryCode IS NOT NULL <br> AND Actor2CountryCode IS NOT NULL"
   ]
  },
  {
   "cell_type": "code",
   "execution_count": null,
   "metadata": {
    "collapsed": true
   },
   "outputs": [],
   "source": []
  }
 ],
 "metadata": {
  "kernelspec": {
   "display_name": "pySpark (Spark 1.4.0)",
   "language": "python",
   "name": "pyspark"
  },
  "language_info": {
   "codemirror_mode": {
    "name": "ipython",
    "version": 2
   },
   "file_extension": ".py",
   "mimetype": "text/x-python",
   "name": "python",
   "nbconvert_exporter": "python",
   "pygments_lexer": "ipython2",
   "version": "2.7.11"
  }
 },
 "nbformat": 4,
 "nbformat_minor": 0
}
